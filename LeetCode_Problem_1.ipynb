{
  "nbformat": 4,
  "nbformat_minor": 0,
  "metadata": {
    "colab": {
      "provenance": [],
      "authorship_tag": "ABX9TyN6MxzFfbuJoPttcAqhmN/r",
      "include_colab_link": true
    },
    "kernelspec": {
      "name": "python3",
      "display_name": "Python 3"
    },
    "language_info": {
      "name": "python"
    }
  },
  "cells": [
    {
      "cell_type": "markdown",
      "metadata": {
        "id": "view-in-github",
        "colab_type": "text"
      },
      "source": [
        "<a href=\"https://colab.research.google.com/github/AdarshKammar/LeetCode/blob/main/LeetCode_Problem_1.ipynb\" target=\"_parent\"><img src=\"https://colab.research.google.com/assets/colab-badge.svg\" alt=\"Open In Colab\"/></a>"
      ]
    },
    {
      "cell_type": "code",
      "execution_count": 7,
      "metadata": {
        "id": "vPcv8N1qAxAb"
      },
      "outputs": [],
      "source": [
        "#@title Two Sum Problem\n",
        "\n",
        "#Question\n",
        "nums = [2,7,11,15]\n",
        "target = 9"
      ]
    },
    {
      "cell_type": "code",
      "source": [
        "#@title Solution\n",
        "\n",
        "def twosum(nums,target):\n",
        "  hashmap = {}\n",
        "\n",
        "  for i,num in enumerate(nums):\n",
        "    if target - num in hashmap:\n",
        "      return [hashmap[target - num],i]\n",
        "\n",
        "    hashmap[num] = i\n",
        "\n",
        "  return []\n",
        "\n",
        "print(twosum(nums,target))"
      ],
      "metadata": {
        "colab": {
          "base_uri": "https://localhost:8080/"
        },
        "id": "0Yx-Wm_lBQAT",
        "outputId": "5764fdea-e47f-4978-eef3-21b4c965d19f"
      },
      "execution_count": 9,
      "outputs": [
        {
          "output_type": "stream",
          "name": "stdout",
          "text": [
            "[0, 1]\n"
          ]
        }
      ]
    }
  ]
}